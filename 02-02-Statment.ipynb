{
 "cells": [
  {
   "cell_type": "markdown",
   "metadata": {},
   "source": [
    " # <center> Statement"
   ]
  },
  {
   "cell_type": "markdown",
   "metadata": {},
   "source": [
    "<img src=\"https://drive.google.com/uc?id=1LU6MZdTZHkt7NC8hUfqFQhbpMo5Xc9s3\" align=right width=100>"
   ]
  },
  {
   "cell_type": "markdown",
   "metadata": {},
   "source": [
    "<div align = \"right\">วรพงศ์ ปรีดาศักดิ์ <br> นักศึกษา worapong.pr@ku.th </div>"
   ]
  },
  {
   "cell_type": "markdown",
   "metadata": {},
   "source": [
    "**ลำดับขั้นของไพธอน (The Python Conceptual Hierarchy)**\n",
    "1. Programs are composed of modules.\n",
    "2. Modules contain statements.\n",
    "3. Statements contain expressions.\n",
    "4. Expressions create and process objects."
   ]
  },
  {
   "cell_type": "markdown",
   "metadata": {},
   "source": [
    "## Python Statement"
   ]
  },
  {
   "cell_type": "markdown",
   "metadata": {},
   "source": [
    "<Table>\n",
    "    <tr>\n",
    "        <td><div align=center><b>Statement</b></div>\n",
    "        <td><div align=center><b>หน้าที่ (Role) </b></div>\n",
    "        <td><div align=center><b>ตัวอย่าง (Example) </b></div>\n",
    "     <tr>\n",
    "        <td>Assignment การให้ค่า\n",
    "        <td>Creating references สร้างการชี้ไปที่ค่า\n",
    "        <td><pre>a, b = 'good', 'bad'</pre> <br><div align=center>ทางขวามือเรียกดว่า Literals</div>\n",
    "     <tr>\n",
    " <tr><td>Calls and other expressions</td><td>Running functions</td><td>log.write(\"spam, ham\")</td></tr>\n",
    " <tr><td>print calls</td><td>Printing objects</td><td>print('The Killer', joke)</td></tr>\n",
    " <tr><td>if/elif/else</td><td>Selecting actions</td><td>if \"python\" in text: print(text)</td></tr>\n",
    " <tr><td>for/else</td><td>Iteration</td><td>for x in mylist: print(x)</td></tr>\n",
    " <tr><td>while/else</td><td>General loops</td><td>while X > Y: print('hello')</td></tr>\n",
    " <tr><td>pass</td><td>Empty placeholder</td><td>while True: pass</td></tr>\n",
    " <tr><td>break</td><td>Loop exit</td><td>while True: if exittest(): break</td></tr>\n",
    " <tr><td>continue</td><td>Loop continue</td><td>while True: if skiptest(): continue</td></tr>\n",
    " <tr><td>def</td><td>Functions and methods</td><td>def f(a, b, c=1, *d): print(a+b+c+d[0])</td></tr>\n",
    " <tr><td>return</td><td>Functions results</td><td>def f(a, b, c=1, *d): return a+b+c+d[0]</td></tr>\n",
    " <tr><td>yield</td><td>Generator functions</td><td>def gen(n): for i in n: yield i*2</td></tr>\n",
    " <tr><td>global</td><td>Namespaces</td><td>x = 'old'</td></tr>\n",
    "\n",
    "\n",
    "\n",
    "    </table>"
   ]
  },
  {
   "cell_type": "code",
   "execution_count": null,
   "metadata": {},
   "outputs": [],
   "source": []
  },
  {
   "cell_type": "code",
   "execution_count": null,
   "metadata": {},
   "outputs": [],
   "source": []
  }
 ],
 "metadata": {
  "kernelspec": {
   "display_name": "Python 3",
   "language": "python",
   "name": "python3"
  },
  "language_info": {
   "codemirror_mode": {
    "name": "ipython",
    "version": 3
   },
   "file_extension": ".py",
   "mimetype": "text/x-python",
   "name": "python",
   "nbconvert_exporter": "python",
   "pygments_lexer": "ipython3",
   "version": "3.8.7"
  }
 },
 "nbformat": 4,
 "nbformat_minor": 4
}
